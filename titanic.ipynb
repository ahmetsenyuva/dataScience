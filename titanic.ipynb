{
 "cells": [
  {
   "cell_type": "code",
   "execution_count": 290,
   "id": "ec209b60",
   "metadata": {},
   "outputs": [],
   "source": [
    "import seaborn as sn\n",
    "import pandas as pd \n",
    "import matplotlib.pyplot as plt \n",
    "import numpy as np\n",
    "import scipy.stats as stats\n",
    "df = pd.read_csv('train.csv') #Data is read from file.\n",
    "#print(df)\n",
    "#df.info() #Whether the file read operation was successful or not and the file information was checked and libraries added."
   ]
  },
  {
   "cell_type": "code",
   "execution_count": 272,
   "id": "e9f3106a",
   "metadata": {},
   "outputs": [
    {
     "name": "stdout",
     "output_type": "stream",
     "text": [
      "     PassengerId  Survived  Pclass                                      Name  \\\n",
      "885          886         0       3      Rice, Mrs. William (Margaret Norton)   \n",
      "886          887         0       2                     Montvila, Rev. Juozas   \n",
      "887          888         1       1              Graham, Miss. Margaret Edith   \n",
      "888          889         0       3  Johnston, Miss. Catherine Helen \"Carrie\"   \n",
      "889          890         1       1                     Behr, Mr. Karl Howell   \n",
      "890          891         0       3                       Dooley, Mr. Patrick   \n",
      "\n",
      "        Sex   Age  SibSp  Parch      Ticket    Fare Cabin Embarked  \n",
      "885  female  39.0      0      5      382652  29.125   NaN        Q  \n",
      "886    male  27.0      0      0      211536  13.000   NaN        S  \n",
      "887  female  19.0      0      0      112053  30.000   B42        S  \n",
      "888  female   NaN      1      2  W./C. 6607  23.450   NaN        S  \n",
      "889    male  26.0      0      0      111369  30.000  C148        C  \n",
      "890    male  32.0      0      0      370376   7.750   NaN        Q  \n"
     ]
    }
   ],
   "source": [
    "result1 = df.tail(6) #Q1 df.loc[885:890] #Information of the last 6 passengers is showed. \n",
    "print(result1)"
   ]
  },
  {
   "cell_type": "code",
   "execution_count": 273,
   "id": "83011138",
   "metadata": {},
   "outputs": [
    {
     "name": "stdout",
     "output_type": "stream",
     "text": [
      "Index(['PassengerId', 'Survived', 'Pclass', 'Name', 'Sex', 'Age', 'SibSp',\n",
      "       'Parch', 'Ticket', 'Fare', 'Cabin', 'Embarked'],\n",
      "      dtype='object')\n"
     ]
    }
   ],
   "source": [
    "print(df.columns) # Q2 column headers is sorted \n"
   ]
  },
  {
   "cell_type": "code",
   "execution_count": 274,
   "id": "bc81a736",
   "metadata": {},
   "outputs": [
    {
     "name": "stdout",
     "output_type": "stream",
     "text": [
      "(891, 12)\n"
     ]
    }
   ],
   "source": [
    "print(df.shape) # Q3 The size of the data structure is shown.The number of passengers and the categories were determined.. "
   ]
  },
  {
   "cell_type": "code",
   "execution_count": 275,
   "id": "e13c719e",
   "metadata": {},
   "outputs": [
    {
     "name": "stdout",
     "output_type": "stream",
     "text": [
      "<class 'pandas.core.frame.DataFrame'>\n",
      "RangeIndex: 891 entries, 0 to 890\n",
      "Data columns (total 12 columns):\n",
      " #   Column       Non-Null Count  Dtype  \n",
      "---  ------       --------------  -----  \n",
      " 0   PassengerId  891 non-null    int64  \n",
      " 1   Survived     891 non-null    int64  \n",
      " 2   Pclass       891 non-null    int64  \n",
      " 3   Name         891 non-null    object \n",
      " 4   Sex          891 non-null    object \n",
      " 5   Age          714 non-null    float64\n",
      " 6   SibSp        891 non-null    int64  \n",
      " 7   Parch        891 non-null    int64  \n",
      " 8   Ticket       891 non-null    object \n",
      " 9   Fare         891 non-null    float64\n",
      " 10  Cabin        204 non-null    object \n",
      " 11  Embarked     889 non-null    object \n",
      "dtypes: float64(2), int64(5), object(5)\n",
      "memory usage: 83.7+ KB\n",
      "Cabin          687\n",
      "Age            177\n",
      "Embarked         2\n",
      "PassengerId      0\n",
      "Survived         0\n",
      "Pclass           0\n",
      "Name             0\n",
      "Sex              0\n",
      "SibSp            0\n",
      "Parch            0\n",
      "Ticket           0\n",
      "Fare             0\n",
      "dtype: int64\n",
      "Cabin          687\n",
      "Age            177\n",
      "Embarked         2\n",
      "PassengerId      0\n",
      "Survived         0\n",
      "Pclass           0\n",
      "Name             0\n",
      "Sex              0\n",
      "SibSp            0\n",
      "Parch            0\n",
      "Ticket           0\n",
      "Fare             0\n",
      "dtype: int64\n",
      "<class 'pandas.core.frame.DataFrame'>\n",
      "RangeIndex: 891 entries, 0 to 890\n",
      "Data columns (total 12 columns):\n",
      " #   Column       Non-Null Count  Dtype  \n",
      "---  ------       --------------  -----  \n",
      " 0   PassengerId  891 non-null    int64  \n",
      " 1   Survived     891 non-null    int64  \n",
      " 2   Pclass       891 non-null    int64  \n",
      " 3   Name         891 non-null    object \n",
      " 4   Sex          891 non-null    object \n",
      " 5   Age          714 non-null    float64\n",
      " 6   SibSp        891 non-null    int64  \n",
      " 7   Parch        891 non-null    int64  \n",
      " 8   Ticket       891 non-null    object \n",
      " 9   Fare         891 non-null    float64\n",
      " 10  Cabin        204 non-null    object \n",
      " 11  Embarked     889 non-null    object \n",
      "dtypes: float64(2), int64(5), object(5)\n",
      "memory usage: 83.7+ KB\n"
     ]
    }
   ],
   "source": [
    "df.info() # Q4 With the info() method, information was obtained about the columns with missing data.\n",
    "print(df.isnull().sum().sort_values(ascending=False)) #he number of missing data was calculated for each column .\n",
    "# It was determined that there were 687 missing data in the cabin category, 177 in the age category and 2 in the embarked category\n",
    "\n",
    "#df = df.dropna()\n",
    "\n",
    "#missing data has been deleted. ÖDEV KAĞIDINDA SİLME İŞLEMİ KESİN BİR ŞEKİLDE BELİRTİLMEDİĞİ İÇİN EKSİK VERİLERİ \n",
    "#SİLMEDİM. EKSİK VERİLERİ SİLME FONKSİYONUNU GÖRMEK İSTERSİNİZ DİYE BURAYA BIRAKIYORUM. \n",
    "\n",
    "\n",
    "print(df.isnull().sum().sort_values(ascending=False))     #IF DELETION FUNCTION USES, TO SEE THE CURRENT STATE OF THE DATA...\n",
    "df.info()               "
   ]
  },
  {
   "cell_type": "code",
   "execution_count": 276,
   "id": "1a6e830b",
   "metadata": {},
   "outputs": [
    {
     "data": {
      "text/plain": [
       "3    491\n",
       "1    216\n",
       "2    184\n",
       "Name: Pclass, dtype: int64"
      ]
     },
     "execution_count": 276,
     "metadata": {},
     "output_type": "execute_result"
    }
   ],
   "source": [
    "df[\"Pclass\"].value_counts()  # Q5 Calculated the number of elements of the classes inside the Pclass.\n",
    "                             #It was determined that the maximum number of passengers was in the 3rd class, minimum \n",
    "                             #number of passengers in the 2nd class . \n",
    "                             "
   ]
  },
  {
   "cell_type": "code",
   "execution_count": 277,
   "id": "12224c47",
   "metadata": {},
   "outputs": [
    {
     "data": {
      "image/png": "[encoded data removed]",
      "text/plain": [
       "<Figure size 432x288 with 1 Axes>"
      ]
     },
     "metadata": {},
     "output_type": "display_data"
    }
   ],
   "source": [
    "mylabels = [\"3\", \"1\", \"2\"]  #Percentage was calculated according to the obtained data. continue of Q5\n",
    "plt.pie(df[\"Pclass\"].value_counts(), labels = mylabels, autopct='%.2f')\n",
    "plt.show()\n"
   ]
  },
  {
   "cell_type": "code",
   "execution_count": 278,
   "id": "f10969dc",
   "metadata": {},
   "outputs": [
    {
     "data": {
      "text/plain": [
       "<BarContainer object of 2 artists>"
      ]
     },
     "execution_count": 278,
     "metadata": {},
     "output_type": "execute_result"
    },
    {
     "data": {
      "image/png": "[encoded data removed]",
      "text/plain": [
       "<Figure size 432x288 with 1 Axes>"
      ]
     },
     "metadata": {},
     "output_type": "display_data"
    }
   ],
   "source": [
    "y = df[\"Survived\"].value_counts()      # Q6 \n",
    "mylabels = [\"unsurvived\", \"survived\"]  #Calculated based on the data obtained. \n",
    "                                       #It was determined that the number of unsurvived was more than the number of survived.\n",
    "plt.bar(mylabels,y)\n"
   ]
  },
  {
   "cell_type": "code",
   "execution_count": 279,
   "id": "de8e2edc",
   "metadata": {},
   "outputs": [
    {
     "data": {
      "image/png": "[encoded data removed]",
      "text/plain": [
       "<Figure size 432x288 with 3 Axes>"
      ]
     },
     "metadata": {},
     "output_type": "display_data"
    }
   ],
   "source": [
    "group_by_class = df.groupby('Pclass') # Q7 Calculated survival percentages by passenger class. \n",
    "survived = group_by_class['Survived'].sum()\n",
    "sum_class = group_by_class.size()\n",
    "\n",
    "fig, axis = plt.subplots(1,3)\n",
    "myLabels = [\"survived\", \"not survived\"]\n",
    "titles = [\"first class\", \"second class\", \"third class\"]\n",
    "for cnt in [0,1,2]:\n",
    "    \n",
    "    axis[cnt].pie([survived[cnt+1], sum_class[cnt+1]-survived[cnt+1]],labels=myLabels, autopct='%.2f', radius=1)\n",
    "    axis[cnt].set_title(titles[cnt])\n",
    "    "
   ]
  },
  {
   "cell_type": "code",
   "execution_count": 280,
   "id": "31d4ad53",
   "metadata": {},
   "outputs": [
    {
     "data": {
      "text/plain": [
       "<AxesSubplot:xlabel='Pclass', ylabel='Survived'>"
      ]
     },
     "execution_count": 280,
     "metadata": {},
     "output_type": "execute_result"
    },
    {
     "data": {
      "image/png": "[encoded data removed]",
      "text/plain": [
       "<Figure size 432x288 with 1 Axes>"
      ]
     },
     "metadata": {},
     "output_type": "display_data"
    }
   ],
   "source": [
    "sn.barplot(x='Pclass', y='Survived', data=df) #  Q8 survival percentages of classes\n",
    "#It was seen that the class with the highest survival rate was 1, and the class with the least was 3. \n",
    "# The reason for this is thought to be the priority given to 1st class passengers when the ship is sinking."
   ]
  },
  {
   "cell_type": "code",
   "execution_count": 281,
   "id": "72f4ace6",
   "metadata": {},
   "outputs": [
    {
     "data": {
      "text/html": [
       "<div>\n",
       "<style scoped>\n",
       "    .dataframe tbody tr th:only-of-type {\n",
       "        vertical-align: middle;\n",
       "    }\n",
       "\n",
       "    .dataframe tbody tr th {\n",
       "        vertical-align: top;\n",
       "    }\n",
       "\n",
       "    .dataframe thead th {\n",
       "        text-align: right;\n",
       "    }\n",
       "</style>\n",
       "<table border=\"1\" class=\"dataframe\">\n",
       "  <thead>\n",
       "    <tr style=\"text-align: right;\">\n",
       "      <th>Survived</th>\n",
       "      <th>0</th>\n",
       "      <th>1</th>\n",
       "      <th>All</th>\n",
       "    </tr>\n",
       "    <tr>\n",
       "      <th>Sex</th>\n",
       "      <th></th>\n",
       "      <th></th>\n",
       "      <th></th>\n",
       "    </tr>\n",
       "  </thead>\n",
       "  <tbody>\n",
       "    <tr>\n",
       "      <th>female</th>\n",
       "      <td>81</td>\n",
       "      <td>233</td>\n",
       "      <td>314</td>\n",
       "    </tr>\n",
       "    <tr>\n",
       "      <th>male</th>\n",
       "      <td>468</td>\n",
       "      <td>109</td>\n",
       "      <td>577</td>\n",
       "    </tr>\n",
       "    <tr>\n",
       "      <th>All</th>\n",
       "      <td>549</td>\n",
       "      <td>342</td>\n",
       "      <td>891</td>\n",
       "    </tr>\n",
       "  </tbody>\n",
       "</table>\n",
       "</div>"
      ],
      "text/plain": [
       "Survived    0    1  All\n",
       "Sex                    \n",
       "female     81  233  314\n",
       "male      468  109  577\n",
       "All       549  342  891"
      ]
     },
     "execution_count": 281,
     "metadata": {},
     "output_type": "execute_result"
    }
   ],
   "source": [
    "pd.crosstab(df.Sex,df.Survived,margins=True)# Q9 According to the diagram, the number of women surviving is higher than the \n",
    " # number of men, and was seen that the number of men who lost their lives was higher than the number of women."
   ]
  },
  {
   "cell_type": "code",
   "execution_count": 282,
   "id": "e7ca8846",
   "metadata": {},
   "outputs": [
    {
     "data": {
      "image/png": "[encoded data removed]",
      "text/plain": [
       "<Figure size 432x288 with 1 Axes>"
      ]
     },
     "metadata": {},
     "output_type": "display_data"
    }
   ],
   "source": [
    "south = len(df[(df['Embarked'] == 'S') & (df['Survived'] == 0)] )  #Q10 graph of living and non-living people by boarding place\n",
    "south1 = len(df[(df['Embarked'] == 'S') & (df['Survived'] == 1)] )\n",
    "\n",
    "queen = len(df[(df['Embarked'] == 'Q') & (df['Survived'] == 0)] )\n",
    "queen1 = len(df[(df['Embarked'] == 'Q') & (df['Survived'] == 1)] )\n",
    "\n",
    "cher = len(df[(df['Embarked'] == 'C') & (df['Survived'] == 0)] )\n",
    "cher1 = len(df[(df['Embarked'] == 'C') & (df['Survived'] == 1)] )\n",
    "\n",
    "x=[\"S \\n UnSurvived\",\"S \\n Survived\",\"Q \\n Unsurvived\",\"Q \\n  Survived\",\"C \\n UnSurvived\",\"C \\n Survived\"]\n",
    "h=[south,south1,queen,queen1,cher,cher1]\n",
    "plt.bar(x,h)\n",
    "plt.show()"
   ]
  },
  {
   "cell_type": "code",
   "execution_count": 283,
   "id": "9b893f70",
   "metadata": {},
   "outputs": [
    {
     "data": {
      "text/html": [
       "<div>\n",
       "<style scoped>\n",
       "    .dataframe tbody tr th:only-of-type {\n",
       "        vertical-align: middle;\n",
       "    }\n",
       "\n",
       "    .dataframe tbody tr th {\n",
       "        vertical-align: top;\n",
       "    }\n",
       "\n",
       "    .dataframe thead th {\n",
       "        text-align: right;\n",
       "    }\n",
       "</style>\n",
       "<table border=\"1\" class=\"dataframe\">\n",
       "  <thead>\n",
       "    <tr style=\"text-align: right;\">\n",
       "      <th></th>\n",
       "      <th>Age</th>\n",
       "      <th>adult</th>\n",
       "      <th>child</th>\n",
       "      <th>old</th>\n",
       "      <th>All</th>\n",
       "    </tr>\n",
       "    <tr>\n",
       "      <th>Sex</th>\n",
       "      <th>Survived</th>\n",
       "      <th></th>\n",
       "      <th></th>\n",
       "      <th></th>\n",
       "      <th></th>\n",
       "    </tr>\n",
       "  </thead>\n",
       "  <tbody>\n",
       "    <tr>\n",
       "      <th rowspan=\"2\" valign=\"top\">female</th>\n",
       "      <th>0</th>\n",
       "      <td>42</td>\n",
       "      <td>22</td>\n",
       "      <td>0</td>\n",
       "      <td>64</td>\n",
       "    </tr>\n",
       "    <tr>\n",
       "      <th>1</th>\n",
       "      <td>147</td>\n",
       "      <td>46</td>\n",
       "      <td>4</td>\n",
       "      <td>197</td>\n",
       "    </tr>\n",
       "    <tr>\n",
       "      <th rowspan=\"2\" valign=\"top\">male</th>\n",
       "      <th>0</th>\n",
       "      <td>294</td>\n",
       "      <td>47</td>\n",
       "      <td>19</td>\n",
       "      <td>360</td>\n",
       "    </tr>\n",
       "    <tr>\n",
       "      <th>1</th>\n",
       "      <td>66</td>\n",
       "      <td>24</td>\n",
       "      <td>3</td>\n",
       "      <td>93</td>\n",
       "    </tr>\n",
       "    <tr>\n",
       "      <th>All</th>\n",
       "      <th></th>\n",
       "      <td>549</td>\n",
       "      <td>139</td>\n",
       "      <td>26</td>\n",
       "      <td>714</td>\n",
       "    </tr>\n",
       "  </tbody>\n",
       "</table>\n",
       "</div>"
      ],
      "text/plain": [
       "Age              adult  child  old  All\n",
       "Sex    Survived                        \n",
       "female 0            42     22    0   64\n",
       "       1           147     46    4  197\n",
       "male   0           294     47   19  360\n",
       "       1            66     24    3   93\n",
       "All                549    139   26  714"
      ]
     },
     "execution_count": 283,
     "metadata": {},
     "output_type": "execute_result"
    }
   ],
   "source": [
    "for x in df[\"Age\"]: #Q11 It was determined that the highest number of survivors was from the adult group, and the least\n",
    "    #number of survivors was from the elderly group.t is thought that the rate is high due to the fact that adult people \n",
    "    #can protect themselves better.\n",
    "    if x<=18:\n",
    "        df[\"Age\"].replace({x:\"child\"},inplace=True)\n",
    "    elif 18<x<60:\n",
    "         df[\"Age\"].replace({x:\"adult\"},inplace=True)\n",
    "    elif x>=60:\n",
    "         df[\"Age\"].replace({x:\"old\"},inplace=True)\n",
    "pd.crosstab([df.Sex,df.Survived],df.Age,margins=True)"
   ]
  },
  {
   "cell_type": "code",
   "execution_count": 284,
   "id": "c3f891ef",
   "metadata": {},
   "outputs": [
    {
     "data": {
      "image/png": "[encoded data removed]",
      "text/plain": [
       "<Figure size 432x288 with 2 Axes>"
      ]
     },
     "metadata": {},
     "output_type": "display_data"
    }
   ],
   "source": [
    "sn.heatmap(df.corr(), annot=True)  #Q12 heatmap for correlation between whether a passenger survived \n",
    "plt.show()"
   ]
  },
  {
   "cell_type": "code",
   "execution_count": 285,
   "id": "c95a4d11",
   "metadata": {},
   "outputs": [
    {
     "name": "stdout",
     "output_type": "stream",
     "text": [
      "0    THE MOST COMMONLY USED TITLE IS: Mr\n",
      "Name: Title, dtype: object\n"
     ]
    }
   ],
   "source": [
    "train_test_data = [df] # Q13 The most used title is detected\n",
    "\n",
    "for dataset in train_test_data:\n",
    "    dataset['Title'] = dataset['Name'].str.extract(' ([A-Za-z]+)\\.', expand=False)\n",
    "#df['Title'].value_counts()\n",
    "print(\"THE MOST COMMONLY USED TITLE IS: \"+ df['Title'].head(1))\n"
   ]
  },
  {
   "cell_type": "code",
   "execution_count": 286,
   "id": "15975ff2",
   "metadata": {},
   "outputs": [
    {
     "name": "stdout",
     "output_type": "stream",
     "text": [
      "Kullanılan toplam title çeşidi :\n"
     ]
    },
    {
     "data": {
      "text/plain": [
       "17"
      ]
     },
     "execution_count": 286,
     "metadata": {},
     "output_type": "execute_result"
    }
   ],
   "source": [
    "train_test_data = [df]  #Q14 Calculated how many titles there are in total.\n",
    "\n",
    "for dataset in train_test_data:\n",
    "    dataset['Title'] = dataset['Name'].str.extract(' ([A-Za-z]+)\\.', expand=False)\n",
    "\n",
    "print(\"Kullanılan toplam title çeşidi :\")\n",
    "len(df['Title'].value_counts())\n",
    "\n",
    "\n"
   ]
  },
  {
   "cell_type": "code",
   "execution_count": 297,
   "id": "fe2d91c6",
   "metadata": {},
   "outputs": [
    {
     "name": "stdout",
     "output_type": "stream",
     "text": [
      "Kullanılan toplam title çeşidi :\n"
     ]
    },
    {
     "data": {
      "text/plain": [
       "Mr          517\n",
       "Miss        182\n",
       "Mrs         125\n",
       "Master       40\n",
       "Dr            7\n",
       "Rev           6\n",
       "Mlle          2\n",
       "Col           2\n",
       "Major         2\n",
       "Countess      1\n",
       "Lady          1\n",
       "Jonkheer      1\n",
       "Capt          1\n",
       "Don           1\n",
       "Sir           1\n",
       "Ms            1\n",
       "Mme           1\n",
       "Name: Title, dtype: int64"
      ]
     },
     "execution_count": 297,
     "metadata": {},
     "output_type": "execute_result"
    }
   ],
   "source": [
    "train_test_data = [df]  #Q14 Title types is sorted.\n",
    "\n",
    "for dataset in train_test_data:\n",
    "    dataset['Title'] = dataset['Name'].str.extract(' ([A-Za-z]+)\\.', expand=False)\n",
    "\n",
    "print(\"Kullanılan toplam title çeşidi :\")\n",
    "df['Title'].value_counts()"
   ]
  },
  {
   "cell_type": "code",
   "execution_count": 298,
   "id": "b114a341",
   "metadata": {},
   "outputs": [
    {
     "data": {
      "text/plain": [
       "29.69911764705882"
      ]
     },
     "execution_count": 298,
     "metadata": {},
     "output_type": "execute_result"
    }
   ],
   "source": [
    "df[\"Age\"].mean() #Q15 The average age of passengers is calculated. If there is any mistake here because of Jupyter, please \n",
    "# jump to line 1,after that go back here\n"
   ]
  },
  {
   "cell_type": "code",
   "execution_count": 299,
   "id": "c1e435dd",
   "metadata": {},
   "outputs": [
    {
     "data": {
      "text/plain": [
       "<AxesSubplot:xlabel='Survived', ylabel='Age'>"
      ]
     },
     "execution_count": 299,
     "metadata": {},
     "output_type": "execute_result"
    },
    {
     "data": {
      "image/png": "[encoded data removed]",
      "text/plain": [
       "<Figure size 432x288 with 1 Axes>"
      ]
     },
     "metadata": {},
     "output_type": "display_data"
    }
   ],
   "source": [
    "sn.stripplot(x=\"Survived\", y=\"Age\", data=df, jitter = True) #Q16  strip chart that plots age (y-axis),and survival (x-axis)."
   ]
  },
  {
   "cell_type": "code",
   "execution_count": 300,
   "id": "74492b63",
   "metadata": {},
   "outputs": [
    {
     "data": {
      "text/html": [
       "<div>\n",
       "<style scoped>\n",
       "    .dataframe tbody tr th:only-of-type {\n",
       "        vertical-align: middle;\n",
       "    }\n",
       "\n",
       "    .dataframe tbody tr th {\n",
       "        vertical-align: top;\n",
       "    }\n",
       "\n",
       "    .dataframe thead th {\n",
       "        text-align: right;\n",
       "    }\n",
       "</style>\n",
       "<table border=\"1\" class=\"dataframe\">\n",
       "  <thead>\n",
       "    <tr style=\"text-align: right;\">\n",
       "      <th></th>\n",
       "      <th>PassengerId</th>\n",
       "      <th>Survived</th>\n",
       "      <th>Pclass</th>\n",
       "      <th>Name</th>\n",
       "      <th>Sex</th>\n",
       "      <th>Age</th>\n",
       "      <th>SibSp</th>\n",
       "      <th>Parch</th>\n",
       "      <th>Ticket</th>\n",
       "      <th>Fare</th>\n",
       "      <th>Cabin</th>\n",
       "      <th>Embarked</th>\n",
       "      <th>Title</th>\n",
       "    </tr>\n",
       "  </thead>\n",
       "  <tbody>\n",
       "    <tr>\n",
       "      <th>630</th>\n",
       "      <td>631</td>\n",
       "      <td>1</td>\n",
       "      <td>1</td>\n",
       "      <td>Barkworth, Mr. Algernon Henry Wilson</td>\n",
       "      <td>male</td>\n",
       "      <td>80.0</td>\n",
       "      <td>0</td>\n",
       "      <td>0</td>\n",
       "      <td>27042</td>\n",
       "      <td>30.0</td>\n",
       "      <td>A23</td>\n",
       "      <td>S</td>\n",
       "      <td>Mr</td>\n",
       "    </tr>\n",
       "  </tbody>\n",
       "</table>\n",
       "</div>"
      ],
      "text/plain": [
       "     PassengerId  Survived  Pclass                                  Name  \\\n",
       "630          631         1       1  Barkworth, Mr. Algernon Henry Wilson   \n",
       "\n",
       "      Sex   Age  SibSp  Parch Ticket  Fare Cabin Embarked Title  \n",
       "630  male  80.0      0      0  27042  30.0   A23        S    Mr  "
      ]
     },
     "execution_count": 300,
     "metadata": {},
     "output_type": "execute_result"
    }
   ],
   "source": [
    "df[(df['Age']==df['Age'].max()) & (df['Survived'] == 1)]  #Q17 The age of the oldest person who survived is calculated.\n"
   ]
  },
  {
   "cell_type": "code",
   "execution_count": 301,
   "id": "a6862736",
   "metadata": {},
   "outputs": [
    {
     "data": {
      "text/plain": [
       "([<matplotlib.patches.Wedge at 0x20ca85ee340>,\n",
       "  <matplotlib.patches.Wedge at 0x20ca85eea30>,\n",
       "  <matplotlib.patches.Wedge at 0x20ca85eefd0>],\n",
       " [Text(0.7985950521056507, 0.7564693931365453, 'child'),\n",
       "  Text(-0.8536092999603789, -0.6937947556887065, 'adult'),\n",
       "  Text(1.0968387833757207, -0.0833347663515582, 'old')],\n",
       " [Text(0.43559730114853673, 0.4126196689835701, '24.14'),\n",
       "  Text(-0.4656050727056612, -0.37843350310293083, '73.45'),\n",
       "  Text(0.5982757000231204, -0.04545532710084993, '2.41')])"
      ]
     },
     "execution_count": 301,
     "metadata": {},
     "output_type": "execute_result"
    },
    {
     "data": {
      "image/png": "[encoded data removed]",
      "text/plain": [
       "<Figure size 432x288 with 1 Axes>"
      ]
     },
     "metadata": {},
     "output_type": "display_data"
    }
   ],
   "source": [
    "child=len(df[(df['Age'] >= 0) & (df['Age'] <= 18) & (df['Survived'] == 1)] ) #Q18\n",
    "#pie chart that shows the percentage of people who survived according to the age group\n",
    "adult=len(df[(df['Age'] > 18) & (df['Age'] < 60) & (df['Survived'] == 1)] )\n",
    "old=len(df[(df['Age'] >= 60) & (df['Survived'] == 1)] )\n",
    "mylabels = [\"child\", \"adult\", \"old\"] \n",
    "y = np.array([child,adult,old])\n",
    "plt.pie(y, labels = mylabels, autopct='%.2f')\n"
   ]
  },
  {
   "cell_type": "code",
   "execution_count": 302,
   "id": "fd46a602",
   "metadata": {},
   "outputs": [
    {
     "data": {
      "text/plain": [
       "([<matplotlib.patches.Wedge at 0x20ca8c514c0>,\n",
       "  <matplotlib.patches.Wedge at 0x20ca8c51bb0>,\n",
       "  <matplotlib.patches.Wedge at 0x20ca817c1c0>],\n",
       " [Text(0.9593470995991411, 0.5381943352458439, 'veled'),\n",
       "  Text(-1.025372701559712, -0.39825974300214906, 'ortaYasSendromu'),\n",
       "  Text(1.0891176863224272, -0.1543459275124658, 'moruk')],\n",
       " [Text(0.523280236144986, 0.29356054649773305, '16.27'),\n",
       "  Text(-0.559294200850752, -0.2172325870920813, '79.25'),\n",
       "  Text(0.5940641925395057, -0.08418868773407225, '4.48')])"
      ]
     },
     "execution_count": 302,
     "metadata": {},
     "output_type": "execute_result"
    },
    {
     "data": {
      "image/png": "[encoded data removed]",
      "text/plain": [
       "<Figure size 432x288 with 1 Axes>"
      ]
     },
     "metadata": {},
     "output_type": "display_data"
    }
   ],
   "source": [
    "veled = len(df[(df['Age'] >= 0) & (df['Age'] <= 18) & (df['Survived'] == 0)] ) #Q19\n",
    "##pie chart that shows the percentage of people who did not survived according to the age group\n",
    "ortaYasSendromu= len(df[(df['Age'] > 18) & (df['Age'] < 60) & (df['Survived'] == 0)] ) #Q19\n",
    "moruk = len(df[(df['Age'] >= 60) & (df['Survived'] == 0)] ) #Q19\n",
    "myLabels = [\"veled\", \"ortaYasSendromu\",\"moruk\"]\n",
    "plt.pie([veled,ortaYasSendromu,moruk],labels=myLabels, autopct='%.2f', radius=1) #Q19"
   ]
  },
  {
   "cell_type": "code",
   "execution_count": 303,
   "id": "4389744b",
   "metadata": {},
   "outputs": [
    {
     "data": {
      "text/plain": [
       "8"
      ]
     },
     "execution_count": 303,
     "metadata": {},
     "output_type": "execute_result"
    }
   ],
   "source": [
    "df['SibSp'].max() #Q20 the number of the siblings of the passenger who has the highest number of siblings"
   ]
  }
 ],
 "metadata": {
  "kernelspec": {
   "display_name": "Python 3",
   "language": "python",
   "name": "python3"
  },
  "language_info": {
   "codemirror_mode": {
    "name": "ipython",
    "version": 3
   },
   "file_extension": ".py",
   "mimetype": "text/x-python",
   "name": "python",
   "nbconvert_exporter": "python",
   "pygments_lexer": "ipython3",
   "version": "3.8.8"
  }
 },
 "nbformat": 4,
 "nbformat_minor": 5
}
